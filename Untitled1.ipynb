{
 "cells": [
  {
   "cell_type": "markdown",
   "metadata": {},
   "source": [
    "Parsing https://subwiki.org/wiki/Main_Page"
   ]
  },
  {
   "cell_type": "markdown",
   "metadata": {},
   "source": [
    "In this work we were trying to parse all definitions from loaded JSON file that contain 500 url's.\n",
    "The way we tryed to do it was containing different tests by using spacy, nltk, stanforNLP packages.\n",
    "The best sentence recognition shown by stanforNLP package.\n",
    "Sentence splitting was a most har job in this work."
   ]
  },
  {
   "attachments": {},
   "cell_type": "markdown",
   "metadata": {},
   "source": [
    "Problems in output file:\n",
    "    1. Not every presented sentence is was matched as \"definition\".\n",
    "    For example:\n",
    "        Let S be a finite set.\n",
    "        Suppose G is a group and H is a subgroup of G.\n",
    "    In general next sentence that comming after those was definition sentence.\n",
    "    Do we want to delete it from output file?\n",
    "    ![Let.JPG](attachment:Let.JPG)\n",
    "    \n",
    "    "
   ]
  },
  {
   "cell_type": "code",
   "execution_count": null,
   "metadata": {},
   "outputs": [],
   "source": []
  }
 ],
 "metadata": {
  "kernelspec": {
   "display_name": "Python 3",
   "language": "python",
   "name": "python3"
  },
  "language_info": {
   "codemirror_mode": {
    "name": "ipython",
    "version": 3
   },
   "file_extension": ".py",
   "mimetype": "text/x-python",
   "name": "python",
   "nbconvert_exporter": "python",
   "pygments_lexer": "ipython3",
   "version": "3.6.6"
  }
 },
 "nbformat": 4,
 "nbformat_minor": 2
}
